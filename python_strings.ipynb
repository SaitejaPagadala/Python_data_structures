{
 "cells": [
  {
   "cell_type": "markdown",
   "id": "d961dc25",
   "metadata": {},
   "source": [
    "## Python data sctructure - strings"
   ]
  },
  {
   "cell_type": "code",
   "execution_count": null,
   "id": "cd32283d",
   "metadata": {},
   "outputs": [],
   "source": []
  },
  {
   "cell_type": "markdown",
   "id": "a0276770",
   "metadata": {},
   "source": [
    "<p>In Python, a string is an immutable sequence of characters, which means once you create a string, you can't change its contents. Here are some of the methods and functionalities for strings in Python:"
   ]
  },
  {
   "cell_type": "code",
   "execution_count": 2,
   "id": "e5b2d1a1",
   "metadata": {},
   "outputs": [
    {
     "name": "stdout",
     "output_type": "stream",
     "text": [
      "Hello World\n"
     ]
    }
   ],
   "source": [
    "#Concatenation: Combining two or more strings into a new string using the + operator.\n",
    "\n",
    "string1 = \"Hello\"\n",
    "string2 = \"World\"\n",
    "string3 = string1 + \" \" + string2\n",
    "print(string3)"
   ]
  },
  {
   "cell_type": "code",
   "execution_count": 3,
   "id": "35f62f63",
   "metadata": {},
   "outputs": [
    {
     "name": "stdout",
     "output_type": "stream",
     "text": [
      "HiHiHi\n"
     ]
    }
   ],
   "source": [
    "#Repetition: Repeating a string a specified number of times using the * operator.\n",
    "\n",
    "string = \"Hi\"\n",
    "repeated_string = string * 3\n",
    "print(repeated_string)"
   ]
  },
  {
   "cell_type": "code",
   "execution_count": 4,
   "id": "be9e90fe",
   "metadata": {},
   "outputs": [
    {
     "name": "stdout",
     "output_type": "stream",
     "text": [
      "H\n"
     ]
    }
   ],
   "source": [
    "#Indexing: Accessing individual characters of a string by their index, starting from 0 for the first character.\n",
    "\n",
    "string = \"Hello\"\n",
    "print(string[0])"
   ]
  },
  {
   "cell_type": "code",
   "execution_count": 5,
   "id": "4331e061",
   "metadata": {},
   "outputs": [
    {
     "name": "stdout",
     "output_type": "stream",
     "text": [
      "ell\n"
     ]
    }
   ],
   "source": [
    "#Slicing: Accessing a portion of a string by specifying the start and end indices, separated by a colon :\n",
    "\n",
    "string = \"Hello\"\n",
    "sliced_string = string[1:4]\n",
    "print(sliced_string)"
   ]
  },
  {
   "cell_type": "code",
   "execution_count": 6,
   "id": "df2dc326",
   "metadata": {},
   "outputs": [
    {
     "name": "stdout",
     "output_type": "stream",
     "text": [
      "5\n"
     ]
    }
   ],
   "source": [
    "#Length: Finding the number of characters in a string using the len() function.\n",
    "\n",
    "string = \"Hello\"\n",
    "length = len(string)\n",
    "print(length)"
   ]
  },
  {
   "cell_type": "code",
   "execution_count": 7,
   "id": "a2f5e2a1",
   "metadata": {},
   "outputs": [
    {
     "name": "stdout",
     "output_type": "stream",
     "text": [
      "3\n"
     ]
    }
   ],
   "source": [
    "#Count: Counting the number of occurrences of a substring within a string using the count() method.\n",
    "\n",
    "string = \"Hello World\"\n",
    "count = string.count(\"l\")\n",
    "print(count)"
   ]
  },
  {
   "cell_type": "code",
   "execution_count": 8,
   "id": "f7df65b0",
   "metadata": {},
   "outputs": [
    {
     "name": "stdout",
     "output_type": "stream",
     "text": [
      "6\n"
     ]
    }
   ],
   "source": [
    "#Find: Finding the first index of a substring within a string using the find() method.\n",
    "\n",
    "string = \"Hello World\"\n",
    "index = string.find(\"World\")\n",
    "print(index)"
   ]
  },
  {
   "cell_type": "code",
   "execution_count": 9,
   "id": "fb43f9d1",
   "metadata": {},
   "outputs": [
    {
     "name": "stdout",
     "output_type": "stream",
     "text": [
      "Hello Universe\n"
     ]
    }
   ],
   "source": [
    "#Replace: Replacing all occurrences of a substring with another string using the replace() method.\n",
    "\n",
    "string = \"Hello World\"\n",
    "new_string = string.replace(\"World\", \"Universe\")\n",
    "print(new_string)"
   ]
  },
  {
   "cell_type": "code",
   "execution_count": 10,
   "id": "2fe2ce50",
   "metadata": {},
   "outputs": [
    {
     "name": "stdout",
     "output_type": "stream",
     "text": [
      "['Hello', 'World']\n"
     ]
    }
   ],
   "source": [
    "#Split: Splitting a string into a list of substrings based on a specified separator using the split() method.\n",
    "\n",
    "string = \"Hello World\"\n",
    "words = string.split(\" \")\n",
    "print(words)"
   ]
  },
  {
   "cell_type": "code",
   "execution_count": 11,
   "id": "cba88825",
   "metadata": {},
   "outputs": [
    {
     "name": "stdout",
     "output_type": "stream",
     "text": [
      "HELLO WORLD\n"
     ]
    }
   ],
   "source": [
    "#Capitalization: Changing the case of a string using methods such as upper(), lower(), title(), and capitalize().\n",
    "\n",
    "string = \"hello world\"\n",
    "upper_case = string.upper()\n",
    "print(upper_case)"
   ]
  },
  {
   "cell_type": "code",
   "execution_count": 12,
   "id": "1130885a",
   "metadata": {},
   "outputs": [
    {
     "name": "stdout",
     "output_type": "stream",
     "text": [
      "Hello World\n"
     ]
    }
   ],
   "source": [
    "#Strip: Removing leading and trailing whitespaces from a string using the strip() method.\n",
    "\n",
    "string = \" Hello World \"\n",
    "stripped_string = string.strip()\n",
    "print(stripped_string)"
   ]
  },
  {
   "cell_type": "code",
   "execution_count": 13,
   "id": "69681984",
   "metadata": {},
   "outputs": [
    {
     "name": "stdout",
     "output_type": "stream",
     "text": [
      "6\n",
      "-1\n"
     ]
    }
   ],
   "source": [
    "#find(): Returns the index of the first occurrence of the specified value in the string.\n",
    "#If the value is not found, it returns -1.\n",
    "\n",
    "string = \"Hello World\"\n",
    "print(string.find(\"World\"))\n",
    "print(string.find(\"Universe\"))"
   ]
  },
  {
   "cell_type": "code",
   "execution_count": 14,
   "id": "07588a4e",
   "metadata": {},
   "outputs": [
    {
     "name": "stdout",
     "output_type": "stream",
     "text": [
      "6\n"
     ]
    }
   ],
   "source": [
    "#index(): Similar to find() method, but raises a ValueError exception if the specified value is not found in the string.\n",
    "\n",
    "string = \"Hello World\"\n",
    "print(string.index(\"World\"))\n",
    "# print(string.index(\"Universe\")) # Raises ValueError: substring not found"
   ]
  },
  {
   "cell_type": "code",
   "execution_count": 15,
   "id": "01ac299f",
   "metadata": {},
   "outputs": [
    {
     "name": "stdout",
     "output_type": "stream",
     "text": [
      "Hello Universe\n"
     ]
    }
   ],
   "source": [
    "#replace(): Replaces all occurrences of a specified value in the string with a specified new value\n",
    "\n",
    "string = \"Hello World\"\n",
    "print(string.replace(\"World\", \"Universe\"))"
   ]
  },
  {
   "cell_type": "code",
   "execution_count": 17,
   "id": "b281da4d",
   "metadata": {},
   "outputs": [
    {
     "name": "stdout",
     "output_type": "stream",
     "text": [
      "['Hello', 'World']\n"
     ]
    }
   ],
   "source": [
    "#split(): Splits the string into a list of substrings based on a specified separator.\n",
    "\n",
    "string = \"Hello World\"\n",
    "print(string.split(\" \"))"
   ]
  },
  {
   "cell_type": "code",
   "execution_count": 18,
   "id": "4f57449e",
   "metadata": {},
   "outputs": [
    {
     "name": "stdout",
     "output_type": "stream",
     "text": [
      "Hello World\n"
     ]
    }
   ],
   "source": [
    "#join(): Joins a list of strings into a single string using a specified separator.\n",
    "\n",
    "string = \"Hello World\"\n",
    "list_of_strings = ['Hello', 'World']\n",
    "print(\" \".join(list_of_strings))"
   ]
  },
  {
   "cell_type": "code",
   "execution_count": 19,
   "id": "5b8ed50a",
   "metadata": {},
   "outputs": [
    {
     "name": "stdout",
     "output_type": "stream",
     "text": [
      "HELLO WORLD\n"
     ]
    }
   ],
   "source": [
    "#upper(): Converts all the characters of the string to upper case.\n",
    "\n",
    "string = \"Hello World\"\n",
    "print(string.upper())"
   ]
  },
  {
   "cell_type": "code",
   "execution_count": 20,
   "id": "e23ed67a",
   "metadata": {},
   "outputs": [
    {
     "name": "stdout",
     "output_type": "stream",
     "text": [
      "hello world\n"
     ]
    }
   ],
   "source": [
    "#lower(): Converts all the characters of the string to lower case.\n",
    "\n",
    "string = \"Hello World\"\n",
    "print(string.lower())"
   ]
  },
  {
   "cell_type": "code",
   "execution_count": 21,
   "id": "af2cde5e",
   "metadata": {},
   "outputs": [
    {
     "name": "stdout",
     "output_type": "stream",
     "text": [
      "Hello World\n"
     ]
    }
   ],
   "source": [
    "#title(): Converts the first character of each word in the string to upper case and the remaining characters to lower case\n",
    "\n",
    "string = \"hello world\"\n",
    "print(string.title())"
   ]
  },
  {
   "cell_type": "code",
   "execution_count": 22,
   "id": "1e503c36",
   "metadata": {},
   "outputs": [
    {
     "name": "stdout",
     "output_type": "stream",
     "text": [
      "Hello World\n"
     ]
    }
   ],
   "source": [
    "#strip(): Removes leading and trailing whitespaces from the string.\n",
    "\n",
    "string = \"   Hello World   \"\n",
    "print(string.strip())"
   ]
  },
  {
   "cell_type": "code",
   "execution_count": 23,
   "id": "264069b2",
   "metadata": {},
   "outputs": [
    {
     "name": "stdout",
     "output_type": "stream",
     "text": [
      "Hello World   \n"
     ]
    }
   ],
   "source": [
    "#lstrip(): Removes leading whitespaces from the string.\n",
    "\n",
    "string = \"   Hello World   \"\n",
    "print(string.lstrip())"
   ]
  },
  {
   "cell_type": "code",
   "execution_count": 24,
   "id": "e6401145",
   "metadata": {},
   "outputs": [
    {
     "name": "stdout",
     "output_type": "stream",
     "text": [
      "   Hello World\n"
     ]
    }
   ],
   "source": [
    "#rstrip(): Removes trailing whitespaces from the string.\n",
    "\n",
    "string = \"   Hello World   \"\n",
    "print(string.rstrip())"
   ]
  },
  {
   "cell_type": "code",
   "execution_count": 25,
   "id": "de9e37df",
   "metadata": {},
   "outputs": [
    {
     "name": "stdout",
     "output_type": "stream",
     "text": [
      "My name is John and I am 30 years old.\n"
     ]
    }
   ],
   "source": [
    "#format(): Formats the string by replacing placeholders with specified values.\n",
    "\n",
    "name = \"John\"\n",
    "age = 30\n",
    "string = \"My name is {} and I am {} years old.\"\n",
    "print(string.format(name, age))"
   ]
  },
  {
   "cell_type": "code",
   "execution_count": 26,
   "id": "edd9345f",
   "metadata": {},
   "outputs": [
    {
     "name": "stdout",
     "output_type": "stream",
     "text": [
      "True\n"
     ]
    }
   ],
   "source": [
    "#isalpha(): Returns True if all the characters in the string are alphabets, False otherwise.\n",
    "\n",
    "string = \"Hello\"\n",
    "print(string.isalpha())"
   ]
  },
  {
   "cell_type": "code",
   "execution_count": 27,
   "id": "456e3b25",
   "metadata": {},
   "outputs": [
    {
     "name": "stdout",
     "output_type": "stream",
     "text": [
      "My name is John and I am 30 years old.\n"
     ]
    }
   ],
   "source": [
    "#str.format(): This method is used to format the string. You can use placeholders in the\n",
    "#string and then use the format() method to replace the placeholders with actual values\n",
    "\n",
    "name = \"John\"\n",
    "age = 30\n",
    "\n",
    "sentence = \"My name is {} and I am {} years old.\".format(name, age)\n",
    "\n",
    "print(sentence)"
   ]
  },
  {
   "cell_type": "code",
   "execution_count": 28,
   "id": "39da7c9a",
   "metadata": {},
   "outputs": [
    {
     "name": "stdout",
     "output_type": "stream",
     "text": [
      "apple banana cherry\n"
     ]
    }
   ],
   "source": [
    "#str.join(): This method is used to join a list of strings with the string on which it is called.\n",
    "\n",
    "list_of_strings = [\"apple\", \"banana\", \"cherry\"]\n",
    "\n",
    "sentence = \" \".join(list_of_strings)\n",
    "\n",
    "print(sentence)"
   ]
  },
  {
   "cell_type": "code",
   "execution_count": 29,
   "id": "1cdc20ff",
   "metadata": {},
   "outputs": [
    {
     "name": "stdout",
     "output_type": "stream",
     "text": [
      "['apple', 'banana', 'cherry']\n"
     ]
    }
   ],
   "source": [
    "#str.split(): This method is used to split a string into a list of strings based on a specified separator.\n",
    "\n",
    "sentence = \"apple banana cherry\"\n",
    "\n",
    "list_of_strings = sentence.split(\" \")\n",
    "\n",
    "print(list_of_strings)"
   ]
  },
  {
   "cell_type": "code",
   "execution_count": 30,
   "id": "a7931854",
   "metadata": {},
   "outputs": [
    {
     "name": "stdout",
     "output_type": "stream",
     "text": [
      "True\n"
     ]
    }
   ],
   "source": [
    "#str.isdigit(): This method returns True if all the characters in the string are digits and False otherwise.\n",
    "\n",
    "string = \"12345\"\n",
    "\n",
    "result = string.isdigit()\n",
    "\n",
    "print(result)"
   ]
  },
  {
   "cell_type": "code",
   "execution_count": 31,
   "id": "34fcfe24",
   "metadata": {},
   "outputs": [
    {
     "name": "stdout",
     "output_type": "stream",
     "text": [
      "True\n"
     ]
    }
   ],
   "source": [
    "#str.isalnum(): This method returns True if all the characters in the string are alphanumeric and False otherwise. \n",
    "\n",
    "string = \"12345abc\"\n",
    "\n",
    "result = string.isalnum()\n",
    "\n",
    "print(result)"
   ]
  },
  {
   "cell_type": "code",
   "execution_count": null,
   "id": "6be3de46",
   "metadata": {},
   "outputs": [],
   "source": []
  },
  {
   "cell_type": "markdown",
   "id": "915e4591",
   "metadata": {},
   "source": [
    "This covers most of the commonly used methods and functionalities for strings in Python, but there may be other methods and functionalities that I haven't mentioned. If you need to perform any specific task with strings, you can always refer to the official documentation for a complete list of available methods: https://docs.python.org/3/library/stdtypes.html#text-sequence-type-str "
   ]
  },
  {
   "cell_type": "code",
   "execution_count": null,
   "id": "50d5e6ce",
   "metadata": {},
   "outputs": [],
   "source": []
  }
 ],
 "metadata": {
  "kernelspec": {
   "display_name": "Python 3 (ipykernel)",
   "language": "python",
   "name": "python3"
  },
  "language_info": {
   "codemirror_mode": {
    "name": "ipython",
    "version": 3
   },
   "file_extension": ".py",
   "mimetype": "text/x-python",
   "name": "python",
   "nbconvert_exporter": "python",
   "pygments_lexer": "ipython3",
   "version": "3.9.13"
  }
 },
 "nbformat": 4,
 "nbformat_minor": 5
}
