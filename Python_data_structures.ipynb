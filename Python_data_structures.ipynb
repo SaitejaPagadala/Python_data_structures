{
 "cells": [
  {
   "cell_type": "markdown",
   "id": "038049bc",
   "metadata": {},
   "source": [
    "##                                           Data structures in python"
   ]
  },
  {
   "cell_type": "markdown",
   "id": "2caa5855",
   "metadata": {},
   "source": [
    "<p>Lists<p>\n",
    "Lists are ordered, mutable sequences of elements, which can be of any type. You can define a list by using square brackets and separating its elements with commas\n",
    "<p>Lists have a variety of methods that allow you to manipulate their elements, such as append() to add an element to the end of the list, insert() to insert an element at a specific index, and remove() to remove an element from the list. You can also use len() to find the length of a list, and indexing to access individual elements."
   ]
  },
  {
   "cell_type": "code",
   "execution_count": 1,
   "id": "4d414cb9",
   "metadata": {},
   "outputs": [
    {
     "name": "stdout",
     "output_type": "stream",
     "text": [
      "['apple', 'banana', 'cherry']\n"
     ]
    }
   ],
   "source": [
    "fruits = [\"apple\", \"banana\", \"cherry\"]\n",
    "print(fruits)"
   ]
  },
  {
   "cell_type": "code",
   "execution_count": 3,
   "id": "0c070304",
   "metadata": {},
   "outputs": [
    {
     "name": "stdout",
     "output_type": "stream",
     "text": [
      "apple\n"
     ]
    }
   ],
   "source": [
    "# Accessing elements\n",
    "print(fruits[0])"
   ]
  },
  {
   "cell_type": "code",
   "execution_count": 4,
   "id": "f104c703",
   "metadata": {},
   "outputs": [
    {
     "name": "stdout",
     "output_type": "stream",
     "text": [
      "['mango', 'banana', 'cherry']\n"
     ]
    }
   ],
   "source": [
    "# Modifying elements\n",
    "fruits[0] = \"mango\"\n",
    "print(fruits)"
   ]
  },
  {
   "cell_type": "code",
   "execution_count": 5,
   "id": "0af7047c",
   "metadata": {},
   "outputs": [
    {
     "name": "stdout",
     "output_type": "stream",
     "text": [
      "['mango', 'banana', 'cherry', 'orange']\n"
     ]
    }
   ],
   "source": [
    "# Appending elements\n",
    "fruits.append(\"orange\")\n",
    "print(fruits)"
   ]
  },
  {
   "cell_type": "code",
   "execution_count": 6,
   "id": "9fab8a6f",
   "metadata": {},
   "outputs": [
    {
     "name": "stdout",
     "output_type": "stream",
     "text": [
      "['grapes', 'mango', 'banana', 'cherry', 'orange']\n"
     ]
    }
   ],
   "source": [
    "# Inserting elements\n",
    "fruits.insert(0, \"grapes\")\n",
    "print(fruits)"
   ]
  },
  {
   "cell_type": "code",
   "execution_count": 7,
   "id": "789276c7",
   "metadata": {},
   "outputs": [
    {
     "name": "stdout",
     "output_type": "stream",
     "text": [
      "['grapes', 'mango', 'cherry', 'orange']\n"
     ]
    }
   ],
   "source": [
    "# Removing elements\n",
    "fruits.remove(\"banana\")\n",
    "print(fruits)"
   ]
  },
  {
   "cell_type": "code",
   "execution_count": 8,
   "id": "341ac09a",
   "metadata": {},
   "outputs": [
    {
     "name": "stdout",
     "output_type": "stream",
     "text": [
      "4\n"
     ]
    }
   ],
   "source": [
    "# Finding the length\n",
    "print(len(fruits))"
   ]
  },
  {
   "cell_type": "code",
   "execution_count": 9,
   "id": "315dfce2",
   "metadata": {},
   "outputs": [
    {
     "name": "stdout",
     "output_type": "stream",
     "text": [
      "['mango', 'cherry']\n"
     ]
    }
   ],
   "source": [
    "# Slicing\n",
    "print(fruits[1:3])"
   ]
  },
  {
   "cell_type": "code",
   "execution_count": 10,
   "id": "3810b9bc",
   "metadata": {},
   "outputs": [
    {
     "name": "stdout",
     "output_type": "stream",
     "text": [
      "['grapes', 'mango', 'cherry', 'orange', 'potato', 'tomato']\n"
     ]
    }
   ],
   "source": [
    "# Adding two lists\n",
    "veggies = [\"potato\", \"tomato\"]\n",
    "food = fruits + veggies\n",
    "print(food)"
   ]
  },
  {
   "cell_type": "code",
   "execution_count": 11,
   "id": "343766ff",
   "metadata": {},
   "outputs": [
    {
     "name": "stdout",
     "output_type": "stream",
     "text": [
      "['orange', 'cherry', 'mango', 'grapes']\n"
     ]
    }
   ],
   "source": [
    "# Reversing a list\n",
    "fruits.reverse()\n",
    "print(fruits)"
   ]
  },
  {
   "cell_type": "code",
   "execution_count": 14,
   "id": "6aeda27a",
   "metadata": {},
   "outputs": [
    {
     "name": "stdout",
     "output_type": "stream",
     "text": [
      "['cherry']\n"
     ]
    }
   ],
   "source": [
    "# Popping an element\n",
    "fruits.pop(0)\n",
    "print(fruits)"
   ]
  },
  {
   "cell_type": "code",
   "execution_count": 28,
   "id": "5f9ff594",
   "metadata": {},
   "outputs": [
    {
     "name": "stdout",
     "output_type": "stream",
     "text": [
      "['apple', 'banana', 'cherry', 'orange']\n",
      "1\n"
     ]
    }
   ],
   "source": [
    "# Creating a list\n",
    "fruits = [\"apple\", \"banana\", \"cherry\", \"orange\"]\n",
    "print(fruits)\n",
    "\n",
    "# Counting the number of occurences of an element\n",
    "print(fruits.count(\"banana\"))"
   ]
  },
  {
   "cell_type": "code",
   "execution_count": 29,
   "id": "7cdf269f",
   "metadata": {},
   "outputs": [
    {
     "name": "stdout",
     "output_type": "stream",
     "text": [
      "['apple', 'cherry', 'orange']\n"
     ]
    }
   ],
   "source": [
    "# Removing an element\n",
    "fruits.remove(\"banana\")\n",
    "print(fruits)"
   ]
  },
  {
   "cell_type": "code",
   "execution_count": 30,
   "id": "90ea39d9",
   "metadata": {},
   "outputs": [
    {
     "name": "stdout",
     "output_type": "stream",
     "text": [
      "['apple', 'banana', 'cherry', 'orange']\n"
     ]
    }
   ],
   "source": [
    "# Inserting an element at a specific position\n",
    "fruits.insert(1, \"banana\")\n",
    "print(fruits)"
   ]
  },
  {
   "cell_type": "code",
   "execution_count": 31,
   "id": "c10b2c55",
   "metadata": {},
   "outputs": [
    {
     "name": "stdout",
     "output_type": "stream",
     "text": [
      "['apple', 'banana', 'cherry', 'orange']\n"
     ]
    }
   ],
   "source": [
    "# Sorting the list\n",
    "fruits.sort()\n",
    "print(fruits)"
   ]
  },
  {
   "cell_type": "code",
   "execution_count": 32,
   "id": "4d1abd6a",
   "metadata": {},
   "outputs": [
    {
     "name": "stdout",
     "output_type": "stream",
     "text": [
      "True\n"
     ]
    }
   ],
   "source": [
    "# Checking if an element exists in the list\n",
    "print(\"banana\" in fruits) # Output: True"
   ]
  },
  {
   "cell_type": "code",
   "execution_count": null,
   "id": "9fcc1267",
   "metadata": {},
   "outputs": [],
   "source": []
  },
  {
   "cell_type": "markdown",
   "id": "32b51cb1",
   "metadata": {},
   "source": [
    "<p>Tuples:<p>\n",
    "Tuples are ordered, immutable sequences of elements, similar to lists. The main difference is that tuples cannot be modified once they have been created. You can define a tuple by using parentheses and separating its elements with commas\n",
    "<p>You can access individual elements of a tuple using indexing, just like with lists. However, since tuples are immutable, you cannot modify them once they have been created."
   ]
  },
  {
   "cell_type": "code",
   "execution_count": 17,
   "id": "cf12c017",
   "metadata": {},
   "outputs": [
    {
     "data": {
      "text/plain": [
       "('apple', 'banana', 'cherry')"
      ]
     },
     "execution_count": 17,
     "metadata": {},
     "output_type": "execute_result"
    }
   ],
   "source": [
    "# Creating a tuple\n",
    "fruits = (\"apple\", \"banana\", \"cherry\")\n",
    "fruits"
   ]
  },
  {
   "cell_type": "code",
   "execution_count": 18,
   "id": "2821b581",
   "metadata": {},
   "outputs": [
    {
     "name": "stdout",
     "output_type": "stream",
     "text": [
      "apple\n"
     ]
    }
   ],
   "source": [
    "# Accessing elements\n",
    "print(fruits[0])"
   ]
  },
  {
   "cell_type": "code",
   "execution_count": 19,
   "id": "200ef155",
   "metadata": {},
   "outputs": [],
   "source": [
    "# Modifying elements (not possible)\n",
    "\n",
    "# Appending elements (not possible)\n",
    "\n",
    "# Inserting elements (not possible)\n",
    "\n",
    "# Removing elements (not possible)"
   ]
  },
  {
   "cell_type": "code",
   "execution_count": 20,
   "id": "1ca98f65",
   "metadata": {},
   "outputs": [
    {
     "name": "stdout",
     "output_type": "stream",
     "text": [
      "3\n"
     ]
    }
   ],
   "source": [
    "# Finding the length\n",
    "print(len(fruits))"
   ]
  },
  {
   "cell_type": "code",
   "execution_count": 21,
   "id": "e88505fc",
   "metadata": {},
   "outputs": [
    {
     "name": "stdout",
     "output_type": "stream",
     "text": [
      "('apple', 'banana', 'cherry', 'orange')\n",
      "('banana', 'cherry')\n"
     ]
    }
   ],
   "source": [
    "# Creating a tuple\n",
    "fruits = (\"apple\", \"banana\", \"cherry\", \"orange\")\n",
    "print(fruits)\n",
    "\n",
    "# Slicing\n",
    "print(fruits[1:3])"
   ]
  },
  {
   "cell_type": "code",
   "execution_count": 22,
   "id": "afa98d71",
   "metadata": {},
   "outputs": [
    {
     "name": "stdout",
     "output_type": "stream",
     "text": [
      "('apple', 'banana', 'cherry', 'orange', 'potato', 'tomato')\n"
     ]
    }
   ],
   "source": [
    "# Adding two tuples\n",
    "veggies = (\"potato\", \"tomato\")\n",
    "food = fruits + veggies\n",
    "print(food)"
   ]
  },
  {
   "cell_type": "code",
   "execution_count": 23,
   "id": "f960156e",
   "metadata": {},
   "outputs": [],
   "source": [
    "# Reversing a tuple (not possible)\n",
    "\n",
    "# Popping an element (not possible)"
   ]
  },
  {
   "cell_type": "code",
   "execution_count": 25,
   "id": "e834c40d",
   "metadata": {},
   "outputs": [
    {
     "name": "stdout",
     "output_type": "stream",
     "text": [
      "('apple', 'banana', 'cherry', 'orange')\n",
      "1\n"
     ]
    }
   ],
   "source": [
    "# Creating a tuple\n",
    "fruits = (\"apple\", \"banana\", \"cherry\", \"orange\")\n",
    "print(fruits)\n",
    "\n",
    "# Counting the number of occurences of an element\n",
    "print(fruits.count(\"banana\"))"
   ]
  },
  {
   "cell_type": "code",
   "execution_count": 26,
   "id": "635d58b4",
   "metadata": {},
   "outputs": [],
   "source": [
    "\n",
    "# Removing an element (not possible)\n",
    "\n",
    "# Inserting an element at a specific position (not possible)\n",
    "\n",
    "# Sorting the tuple (not possible)\n"
   ]
  },
  {
   "cell_type": "code",
   "execution_count": 27,
   "id": "b9524924",
   "metadata": {},
   "outputs": [
    {
     "name": "stdout",
     "output_type": "stream",
     "text": [
      "True\n"
     ]
    }
   ],
   "source": [
    "# Checking if an element exists in the tuple\n",
    "print(\"banana\" in fruits)"
   ]
  },
  {
   "cell_type": "code",
   "execution_count": null,
   "id": "b3437bfa",
   "metadata": {},
   "outputs": [],
   "source": []
  },
  {
   "cell_type": "markdown",
   "id": "6a777df1",
   "metadata": {},
   "source": [
    "<p>Dictionaries:<p>\n",
    "<p>Dictionaries are unordered collections of key-value pairs. Each key maps to a specific value, and you can use the keys to access the values. You can define a dictionary by using curly braces, with the keys and values separated by colons\n",
    " <p>You can access the values in a dictionary using the keys, just like with a list. You can also add, remove, or modify key-value pairs in a dictionary."
   ]
  },
  {
   "cell_type": "code",
   "execution_count": 34,
   "id": "fe5719f0",
   "metadata": {},
   "outputs": [
    {
     "name": "stdout",
     "output_type": "stream",
     "text": [
      "{'apple': 1, 'banana': 2, 'cherry': 3}\n",
      "1\n"
     ]
    }
   ],
   "source": [
    "# Creating a dictionary\n",
    "fruits = {\"apple\": 1, \"banana\": 2, \"cherry\": 3}\n",
    "print(fruits)\n",
    "\n",
    "# Accessing elements\n",
    "print(fruits[\"apple\"]) # Output: 1"
   ]
  },
  {
   "cell_type": "code",
   "execution_count": 35,
   "id": "f15bc979",
   "metadata": {},
   "outputs": [
    {
     "name": "stdout",
     "output_type": "stream",
     "text": [
      "{'apple': 4, 'banana': 2, 'cherry': 3}\n"
     ]
    }
   ],
   "source": [
    "# Modifying elements\n",
    "fruits[\"apple\"] = 4\n",
    "print(fruits)"
   ]
  },
  {
   "cell_type": "code",
   "execution_count": 36,
   "id": "b989b5bb",
   "metadata": {},
   "outputs": [
    {
     "name": "stdout",
     "output_type": "stream",
     "text": [
      "{'apple': 4, 'banana': 2, 'cherry': 3, 'orange': 5}\n"
     ]
    }
   ],
   "source": [
    "# Appending elements\n",
    "fruits[\"orange\"] = 5\n",
    "print(fruits)"
   ]
  },
  {
   "cell_type": "code",
   "execution_count": 37,
   "id": "3e6dbd6b",
   "metadata": {},
   "outputs": [],
   "source": [
    "# Inserting elements (not possible)"
   ]
  },
  {
   "cell_type": "code",
   "execution_count": 38,
   "id": "3386ffda",
   "metadata": {},
   "outputs": [
    {
     "name": "stdout",
     "output_type": "stream",
     "text": [
      "{'apple': 4, 'cherry': 3, 'orange': 5}\n"
     ]
    }
   ],
   "source": [
    "# Removing elements\n",
    "del fruits[\"banana\"]\n",
    "print(fruits) "
   ]
  },
  {
   "cell_type": "code",
   "execution_count": 39,
   "id": "99f59c47",
   "metadata": {},
   "outputs": [
    {
     "name": "stdout",
     "output_type": "stream",
     "text": [
      "3\n"
     ]
    }
   ],
   "source": [
    "# Finding the length\n",
    "print(len(fruits))"
   ]
  },
  {
   "cell_type": "code",
   "execution_count": 48,
   "id": "3db3ef5c",
   "metadata": {},
   "outputs": [
    {
     "name": "stdout",
     "output_type": "stream",
     "text": [
      "{'apple': 1, 'banana': 2, 'cherry': 3, 'orange': 4}\n"
     ]
    }
   ],
   "source": [
    "# Creating a dictionary\n",
    "fruits = {\"apple\": 1, \"banana\": 2, \"cherry\": 3, \"orange\": 4}\n",
    "print(fruits)"
   ]
  },
  {
   "cell_type": "code",
   "execution_count": 49,
   "id": "45aa0188",
   "metadata": {},
   "outputs": [],
   "source": [
    "# Slicing (not possible)"
   ]
  },
  {
   "cell_type": "code",
   "execution_count": 50,
   "id": "5d4acfdd",
   "metadata": {},
   "outputs": [
    {
     "name": "stdout",
     "output_type": "stream",
     "text": [
      "{'apple': 1, 'banana': 2, 'cherry': 3, 'orange': 4, 'potato': 5, 'tomato': 6}\n"
     ]
    }
   ],
   "source": [
    "# Adding two dictionaries\n",
    "veggies = {\"potato\": 5, \"tomato\": 6}\n",
    "food = {**fruits, **veggies}\n",
    "print(food)"
   ]
  },
  {
   "cell_type": "code",
   "execution_count": 51,
   "id": "3c4ca560",
   "metadata": {},
   "outputs": [],
   "source": [
    "# Reversing a dictionary (not possible)"
   ]
  },
  {
   "cell_type": "code",
   "execution_count": 52,
   "id": "39dfee48",
   "metadata": {},
   "outputs": [
    {
     "name": "stdout",
     "output_type": "stream",
     "text": [
      "{'apple': 1, 'cherry': 3, 'orange': 4}\n"
     ]
    }
   ],
   "source": [
    "# Popping an element\n",
    "fruits.pop(\"banana\")\n",
    "print(fruits) "
   ]
  },
  {
   "cell_type": "code",
   "execution_count": 53,
   "id": "3329441b",
   "metadata": {},
   "outputs": [
    {
     "name": "stdout",
     "output_type": "stream",
     "text": [
      "{'apple': 1, 'banana': 2, 'cherry': 3, 'orange': 4}\n",
      "dict_keys(['apple', 'banana', 'cherry', 'orange'])\n"
     ]
    }
   ],
   "source": [
    "# Creating a dictionary\n",
    "fruits = {\"apple\": 1, \"banana\": 2, \"cherry\": 3, \"orange\": 4}\n",
    "print(fruits)\n",
    "\n",
    "# Getting the keys\n",
    "print(fruits.keys())"
   ]
  },
  {
   "cell_type": "code",
   "execution_count": 54,
   "id": "0d67bd88",
   "metadata": {},
   "outputs": [
    {
     "name": "stdout",
     "output_type": "stream",
     "text": [
      "dict_values([1, 2, 3, 4])\n"
     ]
    }
   ],
   "source": [
    "# Getting the values\n",
    "print(fruits.values())"
   ]
  },
  {
   "cell_type": "code",
   "execution_count": 55,
   "id": "953b5260",
   "metadata": {},
   "outputs": [
    {
     "name": "stdout",
     "output_type": "stream",
     "text": [
      "dict_items([('apple', 1), ('banana', 2), ('cherry', 3), ('orange', 4)])\n"
     ]
    }
   ],
   "source": [
    "# Getting the items as a list of tuples\n",
    "print(fruits.items()) "
   ]
  },
  {
   "cell_type": "code",
   "execution_count": 56,
   "id": "082ed3bf",
   "metadata": {},
   "outputs": [
    {
     "name": "stdout",
     "output_type": "stream",
     "text": [
      "{}\n"
     ]
    }
   ],
   "source": [
    "# Clearing the dictionary\n",
    "fruits.clear()\n",
    "print(fruits)"
   ]
  },
  {
   "cell_type": "code",
   "execution_count": 58,
   "id": "52fd1601",
   "metadata": {},
   "outputs": [
    {
     "name": "stdout",
     "output_type": "stream",
     "text": [
      "{'apple': 1, 'banana': 2, 'cherry': 3, 'orange': 4}\n",
      "True\n"
     ]
    }
   ],
   "source": [
    "# Creating a dictionary\n",
    "fruits = {\"apple\": 1, \"banana\": 2, \"cherry\": 3, \"orange\": 4}\n",
    "print(fruits)\n",
    "\n",
    "# Checking if a key exists in the dictionary\n",
    "print(\"apple\" in fruits)"
   ]
  },
  {
   "cell_type": "code",
   "execution_count": null,
   "id": "d8db12f8",
   "metadata": {},
   "outputs": [],
   "source": []
  },
  {
   "cell_type": "markdown",
   "id": "f087f3e7",
   "metadata": {},
   "source": [
    "<p>Sets:<p>\n",
    "<p>Sets are unordered collections of unique elements. They are similar to lists and tuples, but they do not allow duplicates and do not preserve order. You can define a set by using the set() function or by using curly braces\n",
    "<p>Sets have a variety of methods for manipulating their elements, such as add() to add an element, remove() to remove an element, and union() to combine two sets into one."
   ]
  },
  {
   "cell_type": "code",
   "execution_count": 59,
   "id": "af85ee0e",
   "metadata": {},
   "outputs": [
    {
     "name": "stdout",
     "output_type": "stream",
     "text": [
      "{'banana', 'cherry', 'apple'}\n"
     ]
    }
   ],
   "source": [
    "# Creating a set\n",
    "fruits = {\"apple\", \"banana\", \"cherry\"}\n",
    "print(fruits)"
   ]
  },
  {
   "cell_type": "code",
   "execution_count": 60,
   "id": "deda1ed3",
   "metadata": {},
   "outputs": [],
   "source": [
    "# Accessing elements (not possible)\n",
    "\n",
    "# Modifying elements (not possible)"
   ]
  },
  {
   "cell_type": "code",
   "execution_count": 61,
   "id": "877b448a",
   "metadata": {},
   "outputs": [
    {
     "name": "stdout",
     "output_type": "stream",
     "text": [
      "{'banana', 'cherry', 'orange', 'apple'}\n"
     ]
    }
   ],
   "source": [
    "# Appending elements\n",
    "fruits.add(\"orange\")\n",
    "print(fruits)"
   ]
  },
  {
   "cell_type": "code",
   "execution_count": 62,
   "id": "145b0e5b",
   "metadata": {},
   "outputs": [],
   "source": [
    "# Inserting elements (not possible)"
   ]
  },
  {
   "cell_type": "code",
   "execution_count": 63,
   "id": "9325c2e1",
   "metadata": {},
   "outputs": [
    {
     "name": "stdout",
     "output_type": "stream",
     "text": [
      "{'cherry', 'orange', 'apple'}\n"
     ]
    }
   ],
   "source": [
    "# Removing elements\n",
    "fruits.remove(\"banana\")\n",
    "print(fruits)"
   ]
  },
  {
   "cell_type": "code",
   "execution_count": 64,
   "id": "5d0d8fbf",
   "metadata": {},
   "outputs": [
    {
     "name": "stdout",
     "output_type": "stream",
     "text": [
      "3\n"
     ]
    }
   ],
   "source": [
    "# Finding the length\n",
    "print(len(fruits))"
   ]
  },
  {
   "cell_type": "code",
   "execution_count": 65,
   "id": "66569812",
   "metadata": {},
   "outputs": [
    {
     "name": "stdout",
     "output_type": "stream",
     "text": [
      "{'banana', 'cherry', 'orange', 'apple'}\n"
     ]
    }
   ],
   "source": [
    "# Creating a set\n",
    "fruits = {\"apple\", \"banana\", \"cherry\", \"orange\"}\n",
    "print(fruits)"
   ]
  },
  {
   "cell_type": "code",
   "execution_count": 66,
   "id": "86adfd04",
   "metadata": {},
   "outputs": [],
   "source": [
    "# Slicing (not possible)"
   ]
  },
  {
   "cell_type": "code",
   "execution_count": 67,
   "id": "e80016cb",
   "metadata": {},
   "outputs": [
    {
     "name": "stdout",
     "output_type": "stream",
     "text": [
      "{'banana', 'tomato', 'orange', 'cherry', 'potato', 'apple'}\n"
     ]
    }
   ],
   "source": [
    "# Adding two sets\n",
    "veggies = {\"potato\", \"tomato\"}\n",
    "food = fruits.union(veggies)\n",
    "print(food)"
   ]
  },
  {
   "cell_type": "code",
   "execution_count": 68,
   "id": "ed7a5e1b",
   "metadata": {},
   "outputs": [],
   "source": [
    "# Reversing a set (not possible)"
   ]
  },
  {
   "cell_type": "code",
   "execution_count": 69,
   "id": "2c448e0c",
   "metadata": {},
   "outputs": [
    {
     "name": "stdout",
     "output_type": "stream",
     "text": [
      "{'cherry', 'orange', 'apple'}\n"
     ]
    }
   ],
   "source": [
    "# Popping an element\n",
    "fruits.pop()\n",
    "print(fruits)"
   ]
  },
  {
   "cell_type": "code",
   "execution_count": 70,
   "id": "e4af5eb2",
   "metadata": {},
   "outputs": [
    {
     "name": "stdout",
     "output_type": "stream",
     "text": [
      "{'banana', 'tomato', 'orange', 'cherry', 'potato', 'apple'}\n"
     ]
    }
   ],
   "source": [
    "# Creating a set\n",
    "fruits = {\"apple\", \"banana\", \"cherry\", \"orange\"}\n",
    "\n",
    "# Union of two sets\n",
    "veggies = {\"potato\", \"tomato\"}\n",
    "food = fruits.union(veggies)\n",
    "print(food)"
   ]
  },
  {
   "cell_type": "code",
   "execution_count": 71,
   "id": "33621320",
   "metadata": {},
   "outputs": [
    {
     "name": "stdout",
     "output_type": "stream",
     "text": [
      "set()\n"
     ]
    }
   ],
   "source": [
    "# Intersection of two sets\n",
    "only_fruits = fruits.intersection(veggies)\n",
    "print(only_fruits)"
   ]
  },
  {
   "cell_type": "code",
   "execution_count": 72,
   "id": "65cf10b3",
   "metadata": {},
   "outputs": [
    {
     "name": "stdout",
     "output_type": "stream",
     "text": [
      "{'banana', 'cherry', 'orange', 'apple'}\n"
     ]
    }
   ],
   "source": [
    "# Difference of two sets\n",
    "only_fruits = fruits.difference(veggies)\n",
    "print(only_fruits)"
   ]
  },
  {
   "cell_type": "code",
   "execution_count": 73,
   "id": "c1c2f0e2",
   "metadata": {},
   "outputs": [
    {
     "name": "stdout",
     "output_type": "stream",
     "text": [
      "False\n"
     ]
    }
   ],
   "source": [
    "# Checking if a set is a subset of another set\n",
    "print(veggies.issubset(fruits))"
   ]
  },
  {
   "cell_type": "code",
   "execution_count": 74,
   "id": "19e99f2b",
   "metadata": {},
   "outputs": [
    {
     "name": "stdout",
     "output_type": "stream",
     "text": [
      "{'cherry', 'orange', 'apple'}\n"
     ]
    }
   ],
   "source": [
    "# Removing an element from the set\n",
    "fruits.discard(\"banana\")\n",
    "print(fruits)"
   ]
  },
  {
   "cell_type": "code",
   "execution_count": 75,
   "id": "b33029e4",
   "metadata": {},
   "outputs": [
    {
     "name": "stdout",
     "output_type": "stream",
     "text": [
      "{'banana', 'orange', 'cherry', 'apple'}\n"
     ]
    }
   ],
   "source": [
    "# Adding an element to the set\n",
    "fruits.add(\"banana\")\n",
    "print(fruits)"
   ]
  },
  {
   "cell_type": "code",
   "execution_count": 76,
   "id": "6fe5570a",
   "metadata": {},
   "outputs": [
    {
     "name": "stdout",
     "output_type": "stream",
     "text": [
      "True\n"
     ]
    }
   ],
   "source": [
    "# Checking if an element exists in the set\n",
    "print(\"banana\" in fruits)"
   ]
  },
  {
   "cell_type": "code",
   "execution_count": 78,
   "id": "4a0007b6",
   "metadata": {},
   "outputs": [
    {
     "name": "stdout",
     "output_type": "stream",
     "text": [
      "set()\n"
     ]
    }
   ],
   "source": [
    "# Removing all elements from the set (not possible with discard or remove)\n",
    "fruits.clear()\n",
    "print(fruits)"
   ]
  },
  {
   "cell_type": "code",
   "execution_count": null,
   "id": "3a5d62a1",
   "metadata": {},
   "outputs": [],
   "source": []
  },
  {
   "cell_type": "code",
   "execution_count": null,
   "id": "b47b8af4",
   "metadata": {},
   "outputs": [],
   "source": []
  },
  {
   "cell_type": "code",
   "execution_count": null,
   "id": "7302e133",
   "metadata": {},
   "outputs": [],
   "source": []
  },
  {
   "cell_type": "markdown",
   "id": "ae62271a",
   "metadata": {},
   "source": [
    "Here's a brief explanation of each method and functionality for each data structure:"
   ]
  },
  {
   "cell_type": "markdown",
   "id": "d3d267ee",
   "metadata": {},
   "source": [
    "#### Lists\n",
    "\n",
    "<p>Indexing: Accessing elements at a specific position in the list using square brackets and the index of the element.\n",
    "<p>Slicing: Extracting a sublist from a list using square brackets and specifying the start and end indices.\n",
    "<p>Concatenation: Combining two or more lists using the + operator.\n",
    "<p>Repetition: Repeating the elements of a list multiple times using the * operator.\n",
    "<p>Membership testing: Checking if an element is present in the list using the in operator.\n",
    "<p>Length: Determining the number of elements in the list using the len() function.\n",
    "<p>Append: Adding an element to the end of the list using the append() method.\n",
    "<p>Insert: Adding an element at a specific position in the list using the insert() method.\n",
    "<p>Remove: Removing the first occurrence of an element from the list using the remove() method.\n",
    "<p>Pop: Removing and returning the element at a specific position or the last element in the list using the pop() method.\n",
    "<p>Sort: Sorting the elements in the list in ascending or descending order using the sort() method.\n",
    "<p>Reverse: Reversing the elements in the list using the reverse() method"
   ]
  },
  {
   "cell_type": "markdown",
   "id": "9c3a3545",
   "metadata": {},
   "source": [
    "##### Tuples\n",
    "\n",
    "<p>Indexing: Accessing elements at a specific position in the tuple using square brackets and the index of the element.\n",
    "<p>Slicing: Extracting a sublist from a tuple using square brackets and specifying the start and end indices.\n",
    "<p>Concatenation: Combining two or more tuples using the + operator.\n",
    "<p>Repetition: Repeating the elements of a tuple multiple times using the * operator.\n",
    "<p>Membership testing: Checking if an element is present in the tuple using the in operator.\n",
    "<p>Length: Determining the number of elements in the tuple using the len() function."
   ]
  },
  {
   "cell_type": "markdown",
   "id": "cf2bd2d4",
   "metadata": {},
   "source": [
    "#### Dictionaries\n",
    "\n",
    "<p>Accessing elements: Accessing the value of a specific key in the dictionary using square brackets and the key name.\n",
    "<p>Updating elements: Updating the value of a specific key in the dictionary using square brackets and the key name.\n",
    "<p>Adding elements: Adding a new key-value pair to the dictionary using square brackets and the new key name.\n",
    "<p>Removing elements: Removing a specific key-value pair from the dictionary using the pop() method or the del statement.\n",
    "<p>Membership testing: Checking if a key is present in the dictionary using the in operator.\n",
    "<p>Length: Determining the number of key-value pairs in the dictionary using the len() function.\n",
    "<p>Keys: Retrieving all the keys in the dictionary using the keys() method.\n",
    "<p>Values: Retrieving all the values in the dictionary using the values() method.\n",
    "<p>Items: Retrieving all the key-value pairs in the dictionary as a list of tuples using the items() method."
   ]
  },
  {
   "cell_type": "markdown",
   "id": "7f021dc3",
   "metadata": {},
   "source": [
    "#### Sets\n",
    "\n",
    "<p>Membership testing: Checking if an element is present in the set using the in operator.\n",
    "<p>Length: Determining the number of elements in the set using the len() function.\n",
    "<p>Adding elements: Adding an element to the set using the add() method.\n",
    "<p>Removing elements: Removing an element from the set using the remove() method or the discard() method.\n",
    "<p>Union: Combining two or more sets into a new set containing all unique elements from both sets using the union() method or the | operator.\n",
    "<p>Intersection: Creating a new set containing only the elements that are common to both sets using the intersection() method or the & operator.\n",
    "<p>Difference: Creating a new set containing only the elements that are in one set but not in another using the difference() method or the - operator.\n",
    "<p>Subset: Checking if all elements of one set are present in another set using the issubset() method.\n",
    "<p>Superset: Checking if all elements of one set are present in another set, and the other set has more elements using the issuperset() method.\n",
    "<p>Clear: Removing all elements from the set using the clear() method.\n",
    "<p>Copy: Creating a new set that is a copy of the original set using the copy() method.\n",
    "<p>Frozen sets: Creating a set that cannot be changed after creation using the frozenset() function.\n"
   ]
  },
  {
   "cell_type": "code",
   "execution_count": null,
   "id": "2028d454",
   "metadata": {},
   "outputs": [],
   "source": []
  }
 ],
 "metadata": {
  "kernelspec": {
   "display_name": "Python 3 (ipykernel)",
   "language": "python",
   "name": "python3"
  },
  "language_info": {
   "codemirror_mode": {
    "name": "ipython",
    "version": 3
   },
   "file_extension": ".py",
   "mimetype": "text/x-python",
   "name": "python",
   "nbconvert_exporter": "python",
   "pygments_lexer": "ipython3",
   "version": "3.9.13"
  }
 },
 "nbformat": 4,
 "nbformat_minor": 5
}
